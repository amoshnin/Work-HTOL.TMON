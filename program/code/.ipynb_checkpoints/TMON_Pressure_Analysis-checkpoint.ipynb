{
 "cells": [
  {
   "cell_type": "code",
   "execution_count": 61,
   "id": "156fe7dc-9599-4668-98d7-51aa53eb9137",
   "metadata": {},
   "outputs": [],
   "source": [
    "import pandas as pd\n",
    "import numpy as np\n",
    "import os"
   ]
  },
  {
   "cell_type": "code",
   "execution_count": 63,
   "id": "592cb42c-597e-4b34-bd9a-7dde8d75ca90",
   "metadata": {},
   "outputs": [],
   "source": [
    "def alert_system(df, machine_state, sensor_ranges, outlier_tolerance=3, isHigh=False):\n",
    "    \"\"\"\n",
    "    Detects abnormal sensor values based on machine state and outlier tolerance.\n",
    "\n",
    "    Args:\n",
    "        df: Pandas DataFrame with columns 'time' and 'sensor_value'.\n",
    "        machine_state: List of machine states (0 for idle, 1 for running) \n",
    "                       corresponding to each timestamp in 'data'.\n",
    "        outlier_tolerance: Number of consecutive outliers allowed before triggering an alert.\n",
    "\n",
    "    Returns:\n",
    "        alert_indices: List of indices in 'data' where alerts should be triggered.\n",
    "    \"\"\"\n",
    "    alert_indices = []\n",
    "    consecutive_outliers = 0\n",
    "\n",
    "    for i, (time, value) in df.iterrows():\n",
    "        state = 0 # machine_state[i]\n",
    "        min_threshold, max_threshold = sensor_ranges[state][0]\n",
    "\n",
    "        # Check if the sensor value is outside the normal range\n",
    "        if value < min_threshold or value > max_threshold:\n",
    "            consecutive_outliers += 1\n",
    "\n",
    "            # Trigger an alert if the number of consecutive outliers exceeds the tolerance\n",
    "            if consecutive_outliers > outlier_tolerance:\n",
    "                alert_indices.append(i)\n",
    "        else:\n",
    "            consecutive_outliers = 0\n",
    "\n",
    "    return alert_indices_"
   ]
  },
  {
   "cell_type": "code",
   "execution_count": 67,
   "id": "87971348-c97f-476b-90fe-550ef64f4c1f",
   "metadata": {},
   "outputs": [
    {
     "name": "stdout",
     "output_type": "stream",
     "text": [
      "[[[31, 33], [29, 35]], [[29, 35], [27, 37]]]\n",
      "../HTOL-09\n"
     ]
    },
    {
     "ename": "TypeError",
     "evalue": "'<' not supported between instances of 'float' and 'list'",
     "output_type": "error",
     "traceback": [
      "\u001b[1;31m---------------------------------------------------------------------------\u001b[0m",
      "\u001b[1;31mTypeError\u001b[0m                                 Traceback (most recent call last)",
      "Cell \u001b[1;32mIn[67], line 21\u001b[0m\n\u001b[0;32m     19\u001b[0m file_path \u001b[38;5;241m=\u001b[39m os\u001b[38;5;241m.\u001b[39mpath\u001b[38;5;241m.\u001b[39mjoin(machine_folder_path, file_name)\n\u001b[0;32m     20\u001b[0m df \u001b[38;5;241m=\u001b[39m pd\u001b[38;5;241m.\u001b[39mread_csv(file_path, skiprows\u001b[38;5;241m=\u001b[39m\u001b[38;5;241m3\u001b[39m)[[\u001b[38;5;124m'\u001b[39m\u001b[38;5;124mTime\u001b[39m\u001b[38;5;124m'\u001b[39m, variable]]\n\u001b[1;32m---> 21\u001b[0m response \u001b[38;5;241m=\u001b[39m alert_system(df, machine_state, chiller_pressure_ranges, outlier_tolerance\u001b[38;5;241m=\u001b[39m\u001b[38;5;241m5\u001b[39m)\n\u001b[0;32m     22\u001b[0m \u001b[38;5;28mprint\u001b[39m(response)\n",
      "Cell \u001b[1;32mIn[63], line 22\u001b[0m, in \u001b[0;36malert_system\u001b[1;34m(df, machine_state, sensor_ranges, outlier_tolerance)\u001b[0m\n\u001b[0;32m     19\u001b[0m min_threshold, max_threshold \u001b[38;5;241m=\u001b[39m sensor_ranges[state]\n\u001b[0;32m     21\u001b[0m \u001b[38;5;66;03m# Check if the sensor value is outside the normal range\u001b[39;00m\n\u001b[1;32m---> 22\u001b[0m \u001b[38;5;28;01mif\u001b[39;00m value \u001b[38;5;241m<\u001b[39m min_threshold \u001b[38;5;129;01mor\u001b[39;00m value \u001b[38;5;241m>\u001b[39m max_threshold:\n\u001b[0;32m     23\u001b[0m     consecutive_outliers \u001b[38;5;241m+\u001b[39m\u001b[38;5;241m=\u001b[39m \u001b[38;5;241m1\u001b[39m\n\u001b[0;32m     25\u001b[0m     \u001b[38;5;66;03m# Trigger an alert if the number of consecutive outliers exceeds the tolerance\u001b[39;00m\n",
      "\u001b[1;31mTypeError\u001b[0m: '<' not supported between instances of 'float' and 'list'"
     ]
    }
   ],
   "source": [
    "data_directory = \"../\"\n",
    "\n",
    "chiller_pressure_title = \"ChlPrs\"\n",
    "chiller_pressure_middle = 32\n",
    "chiller_idle = [1, 3]\n",
    "chiller_run = [3, 5]\n",
    "chiller_pressure_ranges = [\n",
    "    [[chiller_pressure_middle - val, chiller_pressure_middle + val] for val in chiller_idle], \n",
    "    [[chiller_pressure_middle - val, chiller_pressure_middle + val] for val in chiller_run], \n",
    "]  # (idle_min, idle_max), (running_min, running_max)\n",
    "\n",
    "machine_state = []\n",
    "\n",
    "for directory in os.listdir(data_directory):\n",
    "    if directory.startswith(\"HTOL-\"):\n",
    "        machine_folder_path = os.path.join(data_directory, directory)\n",
    "        print(machine_folder_path)\n",
    "        for file_name in os.listdir(machine_folder_path):\n",
    "            file_path = os.path.join(machine_folder_path, file_name)\n",
    "            df = pd.read_csv(file_path, skiprows=3)[['Time', variable]]\n",
    "            \n",
    "            low_chiller_pressure_ranges = [chiller_pressure_ranges[0][0], chiller_pressure_ranges[1][0]]\n",
    "            medium_chiller_pressure_ranges = [chiller_pressure_ranges[0][1], chiller_pressure_ranges[1][1]]\n",
    "            \n",
    "            response_low = alert_system(df, machine_state, low_chiller_pressure_ranges, outlier_tolerance=5)\n",
    "            print(response_low)\n",
    "\n",
    "            response_medium = alert_system(df, machine_state, medium_chiller_pressure_ranges, outlier_tolerance=5)\n",
    "            print(response_medium)\n",
    "\n",
    "            response_high = alert_system(df, machine_state, medium_chiller_pressure_ranges, outlier_tolerance=5, isHigh=True)\n",
    "            print(response_high)"
   ]
  }
 ],
 "metadata": {
  "kernelspec": {
   "display_name": "Python 3 (ipykernel)",
   "language": "python",
   "name": "python3"
  },
  "language_info": {
   "codemirror_mode": {
    "name": "ipython",
    "version": 3
   },
   "file_extension": ".py",
   "mimetype": "text/x-python",
   "name": "python",
   "nbconvert_exporter": "python",
   "pygments_lexer": "ipython3",
   "version": "3.12.4"
  }
 },
 "nbformat": 4,
 "nbformat_minor": 5
}
