{
 "cells": [
  {
   "cell_type": "code",
   "execution_count": 1,
   "metadata": {},
   "outputs": [],
   "source": [
    "import pandas as pd\n",
    "import numpy as np\n",
    "import os"
   ]
  },
  {
   "cell_type": "code",
   "execution_count": 2,
   "metadata": {},
   "outputs": [],
   "source": [
    "from sklearn.model_selection import train_test_split"
   ]
  },
  {
   "cell_type": "code",
   "execution_count": 3,
   "metadata": {},
   "outputs": [],
   "source": [
    "from sklearn.preprocessing import StandardScaler, LabelEncoder"
   ]
  },
  {
   "cell_type": "code",
   "execution_count": 4,
   "metadata": {},
   "outputs": [],
   "source": [
    "from sklearn.ensemble import RandomForestRegressor"
   ]
  },
  {
   "cell_type": "code",
   "execution_count": 11,
   "metadata": {},
   "outputs": [],
   "source": [
    "from sklearn.metrics import mean_absolute_error, mean_squared_error"
   ]
  },
  {
   "cell_type": "code",
   "execution_count": null,
   "metadata": {},
   "outputs": [],
   "source": [
    "import matplotlib.pyplot as plt"
   ]
  },
  {
   "cell_type": "code",
   "execution_count": 7,
   "metadata": {},
   "outputs": [],
   "source": [
    "# Load and preprocess data\n",
    "def load_and_preprocess_data(folder):\n",
    "    dfs = []\n",
    "    for i in range(9, 16):\n",
    "        file_name = f\"HTOL-{i:02d}_alerts.csv\"\n",
    "        df = pd.read_csv(os.path.join(folder, file_name))\n",
    "        df['machine_id'] = f'HTOL-{i:02d}'\n",
    "        dfs.append(df)\n",
    "\n",
    "    combined_df = pd.concat(dfs, ignore_index=True)\n",
    "    combined_df['Time'] = pd.to_datetime(combined_df['Time'])\n",
    "    combined_df = combined_df.sort_values(['machine_id', 'Time'])\n",
    "\n",
    "    return combined_df"
   ]
  },
  {
   "cell_type": "code",
   "execution_count": 8,
   "metadata": {},
   "outputs": [],
   "source": [
    "\n",
    "# Feature engineering\n",
    "def engineer_features(df):\n",
    "    df['hour'] = df['Time'].dt.hour\n",
    "    df['day_of_week'] = df['Time'].dt.dayofweek\n",
    "    df['month'] = df['Time'].dt.month\n",
    "    df['is_weekend'] = df['day_of_week'].isin([5, 6]).astype(int)\n",
    "\n",
    "    # Calculate rolling statistics\n",
    "    df['rolling_mean'] = df.groupby('machine_id')['ChlPrs'].rolling(window=24, min_periods=1).mean().reset_index(0, drop=True)\n",
    "    df['rolling_std'] = df.groupby('machine_id')['ChlPrs'].rolling(window=24, min_periods=1).std().reset_index(0, drop=True)\n",
    "\n",
    "    # Calculate time since last alert for each type\n",
    "    alert_types = ['LOW', 'MEDIUM', 'HIGH', 'SIGMA']\n",
    "    for alert_type in alert_types:\n",
    "        df[f'time_since_{alert_type}'] = df.groupby('machine_id').apply(lambda x: x['Time'] - x[x['ALERT'] == alert_type]['Time'].shift(1)).reset_index(level=0, drop=True)\n",
    "        df[f'time_since_{alert_type}'] = df[f'time_since_{alert_type}'].dt.total_seconds() / 3600  # Convert to hours\n",
    "\n",
    "    return df"
   ]
  },
  {
   "cell_type": "code",
   "execution_count": 9,
   "metadata": {},
   "outputs": [],
   "source": [
    "\n",
    "# Prepare data for model training\n",
    "def prepare_data_for_model(df, target_alert_type, prediction_horizon):\n",
    "    df['target'] = df.groupby('machine_id').apply(lambda x: x[x['ALERT'] == target_alert_type]['Time'].shift(-1) - x['Time']).reset_index(level=0, drop=True)\n",
    "    df['target'] = df['target'].dt.total_seconds() / (24 * 3600)  # Convert to days\n",
    "\n",
    "    # Remove rows where target is greater than the prediction horizon\n",
    "    df = df[df['target'] <= prediction_horizon]\n",
    "\n",
    "    # Remove rows with NaN targets (i.e., last occurrence of each alert type for each machine)\n",
    "    df = df.dropna(subset=['target'])\n",
    "\n",
    "    features = ['ChlPrs', 'hour', 'day_of_week', 'month', 'is_weekend', 'rolling_mean', 'rolling_std'] + [f'time_since_{at}' for at in ['LOW', 'MEDIUM', 'HIGH', 'SIGMA']]\n",
    "    X = df[features]\n",
    "    y = df['target']\n",
    "\n",
    "    return X, y"
   ]
  },
  {
   "cell_type": "code",
   "execution_count": 12,
   "metadata": {},
   "outputs": [],
   "source": [
    "\n",
    "# Train and evaluate model\n",
    "def train_and_evaluate_model(X, y, test_size=0.2):\n",
    "    X_train, X_test, y_train, y_test = train_test_split(X, y, test_size=test_size, random_state=42)\n",
    "\n",
    "    scaler = StandardScaler()\n",
    "    X_train_scaled = scaler.fit_transform(X_train)\n",
    "    X_test_scaled = scaler.transform(X_test)\n",
    "\n",
    "    model = RandomForestRegressor(n_estimators=100, random_state=42)\n",
    "    model.fit(X_train_scaled, y_train)\n",
    "\n",
    "    y_pred = model.predict(X_test_scaled)\n",
    "\n",
    "    mae = mean_absolute_error(y_test, y_pred)\n",
    "    rmse = np.sqrt(mean_squared_error(y_test, y_pred))\n",
    "\n",
    "    print(f\"Mean Absolute Error: {mae:.2f} days\")\n",
    "    print(f\"Root Mean Squared Error: {rmse:.2f} days\")\n",
    "\n",
    "    return model, scaler"
   ]
  },
  {
   "cell_type": "code",
   "execution_count": 13,
   "metadata": {},
   "outputs": [],
   "source": [
    "\n",
    "# Visualize actual and predicted alerts\n",
    "def visualize_alerts(df, model, scaler, target_alert_type, prediction_horizon):\n",
    "    features = ['ChlPrs', 'hour', 'day_of_week', 'month', 'is_weekend', 'rolling_mean', 'rolling_std'] + [f'time_since_{at}' for at in ['LOW', 'MEDIUM', 'HIGH', 'SIGMA']]\n",
    "    X = df[features]\n",
    "    X_scaled = scaler.transform(X)\n",
    "\n",
    "    df['predicted_days_to_alert'] = model.predict(X_scaled)\n",
    "    df['predicted_alert_date'] = df['Time'] + pd.to_timedelta(df['predicted_days_to_alert'], unit='D')\n",
    "\n",
    "    plt.figure(figsize=(20, 10))\n",
    "    for machine_id in df['machine_id'].unique():\n",
    "        machine_df = df[df['machine_id'] == machine_id]\n",
    "\n",
    "        # Plot actual alerts\n",
    "        alerts = machine_df[machine_df['ALERT'] == target_alert_type]\n",
    "        plt.scatter(alerts['Time'], [machine_id] * len(alerts), marker='o', s=100, label=f'Actual {target_alert_type} Alert')\n",
    "\n",
    "        # Plot predicted alerts\n",
    "        predicted_alerts = machine_df[machine_df['predicted_days_to_alert'] <= prediction_horizon]\n",
    "        plt.scatter(predicted_alerts['predicted_alert_date'], [machine_id] * len(predicted_alerts), marker='x', s=100, label=f'Predicted {target_alert_type} Alert')\n",
    "\n",
    "    plt.xlabel('Date')\n",
    "    plt.ylabel('Machine ID')\n",
    "    plt.title(f'Actual vs Predicted {target_alert_type} Alerts')\n",
    "    plt.legend()\n",
    "    plt.grid(True)\n",
    "    plt.show()"
   ]
  },
  {
   "cell_type": "code",
   "execution_count": null,
   "metadata": {},
   "outputs": [],
   "source": [
    "\n",
    "# Main execution\n",
    "condition = True\n",
    "if condition:\n",
    "    folder = \"../outlier_tolerance=5_grouping_time_window=200_anomaly_threshold=6_start_date=2022-01-01_end_date=2026-01-01\"\n",
    "    prediction_horizon = 30  # days\n",
    "\n",
    "    # Load and preprocess data\n",
    "    df = load_and_preprocess_data(folder)\n",
    "    df = engineer_features(df)\n",
    "\n",
    "    # Train and evaluate models for each alert type\n",
    "    alert_types = ['LOW', 'MEDIUM', 'HIGH', 'SIGMA']\n",
    "    models = {}\n",
    "    scalers = {}\n",
    "\n",
    "    for alert_type in alert_types:\n",
    "        print(f\"\\nTraining model for {alert_type} alerts:\")\n",
    "        X, y = prepare_data_for_model(df, alert_type, prediction_horizon)\n",
    "        model, scaler = train_and_evaluate_model(X, y)\n",
    "        models[alert_type] = model\n",
    "        scalers[alert_type] = scaler\n",
    "\n",
    "        # Visualize actual and predicted alerts\n",
    "        visualize_alerts(df, model, scaler, alert_type, prediction_horizon)\n",
    "\n",
    "    # Example of making predictions for new data\n",
    "    new_data = df.iloc[-1:].copy()  # Use the last row as an example\n",
    "    for alert_type in alert_types:\n",
    "        features = ['ChlPrs', 'hour', 'day_of_week', 'month', 'is_weekend', 'rolling_mean', 'rolling_std'] + [f'time_since_{at}' for at in alert_types]\n",
    "        X_new = new_data[features]\n",
    "        X_new_scaled = scalers[alert_type].transform(X_new)\n",
    "        predicted_days = models[alert_type].predict(X_new_scaled)[0]\n",
    "        print(f\"Predicted days until next {alert_type} alert: {predicted_days:.2f}\")"
   ]
  }
 ],
 "metadata": {
  "kernelspec": {
   "display_name": "tmon_alert",
   "language": "python",
   "name": "python3"
  },
  "language_info": {
   "codemirror_mode": {
    "name": "ipython",
    "version": 3
   },
   "file_extension": ".py",
   "mimetype": "text/x-python",
   "name": "python",
   "nbconvert_exporter": "python",
   "pygments_lexer": "ipython3",
   "version": "3.12.6"
  }
 },
 "nbformat": 4,
 "nbformat_minor": 2
}
