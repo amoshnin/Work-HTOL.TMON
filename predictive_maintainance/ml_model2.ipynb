{
 "cells": [
  {
   "cell_type": "code",
   "execution_count": 1,
   "metadata": {},
   "outputs": [],
   "source": [
    "import pandas as pd\n",
    "import os\n",
    "import numpy as np\n",
    "from sklearn.model_selection import train_test_split\n",
    "from sklearn.preprocessing import StandardScaler, LabelEncoder\n",
    "from sklearn.ensemble import RandomForestClassifier\n",
    "from sklearn.metrics import classification_report, mean_absolute_error\n",
    "from datetime import timedelta, datetime\n",
    "import matplotlib.pyplot as plt"
   ]
  },
  {
   "cell_type": "code",
   "execution_count": 2,
   "metadata": {},
   "outputs": [],
   "source": [
    "# Load the CSV files into Pandas Dataframes\n",
    "folder = \"../outlier_tolerance=5_grouping_time_window=200_anomaly_threshold=6_start_date=2022-01-01_end_date=2026-01-01\"\n",
    "\n",
    "df1 = pd.read_csv(os.path.join(folder, \"HTOL-09_alerts.csv\"))\n",
    "df1['machine_id'] = 'HTOL-09'\n",
    "\n",
    "df2 = pd.read_csv(os.path.join(folder, \"HTOL-10_alerts.csv\"))\n",
    "df2['machine_id'] = 'HTOL-10'\n",
    "\n",
    "df3 = pd.read_csv(os.path.join(folder, \"HTOL-11_alerts.csv\"))\n",
    "df3['machine_id'] = 'HTOL-11'\n",
    "\n",
    "df4 = pd.read_csv(os.path.join(folder, \"HTOL-12_alerts.csv\"))\n",
    "df4['machine_id'] = 'HTOL-12'\n",
    "\n",
    "df5 = pd.read_csv(os.path.join(folder, \"HTOL-13_alerts.csv\"))\n",
    "df5['machine_id'] = 'HTOL-13'\n",
    "\n",
    "df6 = pd.read_csv(os.path.join(folder, \"HTOL-14_alerts.csv\"))\n",
    "df6['machine_id'] = 'HTOL-14'\n",
    "\n",
    "df7 = pd.read_csv(os.path.join(folder, \"HTOL-15_alerts.csv\"))\n",
    "df7['machine_id'] = 'HTOL-15'"
   ]
  },
  {
   "cell_type": "code",
   "execution_count": 3,
   "metadata": {},
   "outputs": [],
   "source": [
    "# Concatenate all DataFrames into a single DataFrame\n",
    "df = pd.concat([df1, df2, df3, df4, df5, df6, df7], ignore_index=True)\n",
    "\n",
    "# Convert 'Time' column to datetime objects\n",
    "df['Time'] = pd.to_datetime(df['Time'])\n",
    "\n",
    "# Sort the DataFrame by 'machine_id' and 'Time'\n",
    "df.sort_values(by=['machine_id', 'Time'], inplace=True)"
   ]
  },
  {
   "cell_type": "code",
   "execution_count": 4,
   "metadata": {},
   "outputs": [],
   "source": [
    "# **Feature Engineering**\n",
    "\n",
    "# 1. **Time-based features:**\n",
    "df['dayofweek'] = df['Time'].dt.dayofweek\n",
    "df['hour'] = df['Time'].dt.hour"
   ]
  },
  {
   "cell_type": "code",
   "execution_count": 5,
   "metadata": {},
   "outputs": [
    {
     "data": {
      "text/html": [
       "<div>\n",
       "<style scoped>\n",
       "    .dataframe tbody tr th:only-of-type {\n",
       "        vertical-align: middle;\n",
       "    }\n",
       "\n",
       "    .dataframe tbody tr th {\n",
       "        vertical-align: top;\n",
       "    }\n",
       "\n",
       "    .dataframe thead th {\n",
       "        text-align: right;\n",
       "    }\n",
       "</style>\n",
       "<table border=\"1\" class=\"dataframe\">\n",
       "  <thead>\n",
       "    <tr style=\"text-align: right;\">\n",
       "      <th></th>\n",
       "      <th>Time</th>\n",
       "      <th>ChlPrs</th>\n",
       "      <th>alert_index</th>\n",
       "      <th>ALERT</th>\n",
       "      <th>file_name</th>\n",
       "      <th>machine_id</th>\n",
       "      <th>dayofweek</th>\n",
       "      <th>hour</th>\n",
       "    </tr>\n",
       "  </thead>\n",
       "  <tbody>\n",
       "    <tr>\n",
       "      <th>0</th>\n",
       "      <td>2024-03-14 09:50:49</td>\n",
       "      <td>32.66</td>\n",
       "      <td>0</td>\n",
       "      <td>NaN</td>\n",
       "      <td>HTOL-09-20240314095049.csv</td>\n",
       "      <td>HTOL-09</td>\n",
       "      <td>3</td>\n",
       "      <td>9</td>\n",
       "    </tr>\n",
       "    <tr>\n",
       "      <th>1</th>\n",
       "      <td>2024-03-14 09:50:49</td>\n",
       "      <td>32.63</td>\n",
       "      <td>1</td>\n",
       "      <td>NaN</td>\n",
       "      <td>HTOL-09-20240314095049.csv</td>\n",
       "      <td>HTOL-09</td>\n",
       "      <td>3</td>\n",
       "      <td>9</td>\n",
       "    </tr>\n",
       "    <tr>\n",
       "      <th>2</th>\n",
       "      <td>2024-03-14 09:50:50</td>\n",
       "      <td>32.58</td>\n",
       "      <td>2</td>\n",
       "      <td>NaN</td>\n",
       "      <td>HTOL-09-20240314095049.csv</td>\n",
       "      <td>HTOL-09</td>\n",
       "      <td>3</td>\n",
       "      <td>9</td>\n",
       "    </tr>\n",
       "    <tr>\n",
       "      <th>3</th>\n",
       "      <td>2024-03-14 09:50:51</td>\n",
       "      <td>32.69</td>\n",
       "      <td>3</td>\n",
       "      <td>NaN</td>\n",
       "      <td>HTOL-09-20240314095049.csv</td>\n",
       "      <td>HTOL-09</td>\n",
       "      <td>3</td>\n",
       "      <td>9</td>\n",
       "    </tr>\n",
       "    <tr>\n",
       "      <th>4</th>\n",
       "      <td>2024-03-14 09:50:53</td>\n",
       "      <td>32.62</td>\n",
       "      <td>4</td>\n",
       "      <td>NaN</td>\n",
       "      <td>HTOL-09-20240314095049.csv</td>\n",
       "      <td>HTOL-09</td>\n",
       "      <td>3</td>\n",
       "      <td>9</td>\n",
       "    </tr>\n",
       "  </tbody>\n",
       "</table>\n",
       "</div>"
      ],
      "text/plain": [
       "                 Time  ChlPrs  alert_index ALERT                   file_name  \\\n",
       "0 2024-03-14 09:50:49   32.66            0   NaN  HTOL-09-20240314095049.csv   \n",
       "1 2024-03-14 09:50:49   32.63            1   NaN  HTOL-09-20240314095049.csv   \n",
       "2 2024-03-14 09:50:50   32.58            2   NaN  HTOL-09-20240314095049.csv   \n",
       "3 2024-03-14 09:50:51   32.69            3   NaN  HTOL-09-20240314095049.csv   \n",
       "4 2024-03-14 09:50:53   32.62            4   NaN  HTOL-09-20240314095049.csv   \n",
       "\n",
       "  machine_id  dayofweek  hour  \n",
       "0    HTOL-09          3     9  \n",
       "1    HTOL-09          3     9  \n",
       "2    HTOL-09          3     9  \n",
       "3    HTOL-09          3     9  \n",
       "4    HTOL-09          3     9  "
      ]
     },
     "execution_count": 5,
     "metadata": {},
     "output_type": "execute_result"
    }
   ],
   "source": [
    "df.head()"
   ]
  },
  {
   "cell_type": "code",
   "execution_count": 6,
   "metadata": {},
   "outputs": [
    {
     "name": "stderr",
     "output_type": "stream",
     "text": [
      "C:\\Users\\amoshnin\\AppData\\Local\\Temp\\ipykernel_28684\\4118892547.py:4: FutureWarning: Series.fillna with 'method' is deprecated and will raise in a future version. Use obj.ffill() or obj.bfill() instead.\n",
      "  df[f'ChlPrs_lag_{i}'] = df.groupby('machine_id')['ChlPrs'].shift(i).fillna(method='bfill')\n",
      "C:\\Users\\amoshnin\\AppData\\Local\\Temp\\ipykernel_28684\\4118892547.py:4: FutureWarning: Series.fillna with 'method' is deprecated and will raise in a future version. Use obj.ffill() or obj.bfill() instead.\n",
      "  df[f'ChlPrs_lag_{i}'] = df.groupby('machine_id')['ChlPrs'].shift(i).fillna(method='bfill')\n",
      "C:\\Users\\amoshnin\\AppData\\Local\\Temp\\ipykernel_28684\\4118892547.py:4: FutureWarning: Series.fillna with 'method' is deprecated and will raise in a future version. Use obj.ffill() or obj.bfill() instead.\n",
      "  df[f'ChlPrs_lag_{i}'] = df.groupby('machine_id')['ChlPrs'].shift(i).fillna(method='bfill')\n"
     ]
    },
    {
     "ename": "ValueError",
     "evalue": "window must be an integer 0 or greater",
     "output_type": "error",
     "traceback": [
      "\u001b[1;31m---------------------------------------------------------------------------\u001b[0m",
      "\u001b[1;31mValueError\u001b[0m                                Traceback (most recent call last)",
      "Cell \u001b[1;32mIn[6], line 9\u001b[0m\n\u001b[0;32m      4\u001b[0m     df[\u001b[38;5;124mf\u001b[39m\u001b[38;5;124m'\u001b[39m\u001b[38;5;124mChlPrs_lag_\u001b[39m\u001b[38;5;132;01m{\u001b[39;00mi\u001b[38;5;132;01m}\u001b[39;00m\u001b[38;5;124m'\u001b[39m] \u001b[38;5;241m=\u001b[39m df\u001b[38;5;241m.\u001b[39mgroupby(\u001b[38;5;124m'\u001b[39m\u001b[38;5;124mmachine_id\u001b[39m\u001b[38;5;124m'\u001b[39m)[\u001b[38;5;124m'\u001b[39m\u001b[38;5;124mChlPrs\u001b[39m\u001b[38;5;124m'\u001b[39m]\u001b[38;5;241m.\u001b[39mshift(i)\u001b[38;5;241m.\u001b[39mfillna(method\u001b[38;5;241m=\u001b[39m\u001b[38;5;124m'\u001b[39m\u001b[38;5;124mbfill\u001b[39m\u001b[38;5;124m'\u001b[39m)\n\u001b[0;32m      6\u001b[0m \u001b[38;5;66;03m# 3. **Rolling window statistics:**\u001b[39;00m\n\u001b[0;32m      7\u001b[0m df[\u001b[38;5;124m'\u001b[39m\u001b[38;5;124mrolling_mean_24h\u001b[39m\u001b[38;5;124m'\u001b[39m] \u001b[38;5;241m=\u001b[39m (\n\u001b[0;32m      8\u001b[0m     \u001b[43mdf\u001b[49m\u001b[38;5;241;43m.\u001b[39;49m\u001b[43mgroupby\u001b[49m\u001b[43m(\u001b[49m\u001b[38;5;124;43m'\u001b[39;49m\u001b[38;5;124;43mmachine_id\u001b[39;49m\u001b[38;5;124;43m'\u001b[39;49m\u001b[43m)\u001b[49m\u001b[43m[\u001b[49m\u001b[38;5;124;43m'\u001b[39;49m\u001b[38;5;124;43mChlPrs\u001b[39;49m\u001b[38;5;124;43m'\u001b[39;49m\u001b[43m]\u001b[49m\n\u001b[1;32m----> 9\u001b[0m \u001b[43m    \u001b[49m\u001b[38;5;241;43m.\u001b[39;49m\u001b[43mrolling\u001b[49m\u001b[43m(\u001b[49m\u001b[38;5;124;43m'\u001b[39;49m\u001b[38;5;124;43m24h\u001b[39;49m\u001b[38;5;124;43m'\u001b[39;49m\u001b[43m)\u001b[49m\n\u001b[0;32m     10\u001b[0m     \u001b[38;5;241m.\u001b[39mmean()\n\u001b[0;32m     11\u001b[0m     \u001b[38;5;241m.\u001b[39mreset_index(level\u001b[38;5;241m=\u001b[39m\u001b[38;5;241m0\u001b[39m, drop\u001b[38;5;241m=\u001b[39m\u001b[38;5;28;01mTrue\u001b[39;00m)\n\u001b[0;32m     12\u001b[0m )\n\u001b[0;32m     13\u001b[0m df[\u001b[38;5;124m'\u001b[39m\u001b[38;5;124mrolling_std_24h\u001b[39m\u001b[38;5;124m'\u001b[39m] \u001b[38;5;241m=\u001b[39m (\n\u001b[0;32m     14\u001b[0m     df\u001b[38;5;241m.\u001b[39mgroupby(\u001b[38;5;124m'\u001b[39m\u001b[38;5;124mmachine_id\u001b[39m\u001b[38;5;124m'\u001b[39m)[\u001b[38;5;124m'\u001b[39m\u001b[38;5;124mChlPrs\u001b[39m\u001b[38;5;124m'\u001b[39m]\n\u001b[0;32m     15\u001b[0m     \u001b[38;5;241m.\u001b[39mrolling(\u001b[38;5;124m'\u001b[39m\u001b[38;5;124m24h\u001b[39m\u001b[38;5;124m'\u001b[39m)\n\u001b[0;32m     16\u001b[0m     \u001b[38;5;241m.\u001b[39mstd()\n\u001b[0;32m     17\u001b[0m     \u001b[38;5;241m.\u001b[39mreset_index(level\u001b[38;5;241m=\u001b[39m\u001b[38;5;241m0\u001b[39m, drop\u001b[38;5;241m=\u001b[39m\u001b[38;5;28;01mTrue\u001b[39;00m)\n\u001b[0;32m     18\u001b[0m )\n",
      "File \u001b[1;32mc:\\Users\\amoshnin\\AppData\\Local\\anaconda3\\envs\\tmon_alert\\Lib\\site-packages\\pandas\\core\\groupby\\groupby.py:3879\u001b[0m, in \u001b[0;36mGroupBy.rolling\u001b[1;34m(self, *args, **kwargs)\u001b[0m\n\u001b[0;32m   3749\u001b[0m \u001b[38;5;250m\u001b[39m\u001b[38;5;124;03m\"\"\"\u001b[39;00m\n\u001b[0;32m   3750\u001b[0m \u001b[38;5;124;03mReturn a rolling grouper, providing rolling functionality per group.\u001b[39;00m\n\u001b[0;32m   3751\u001b[0m \n\u001b[1;32m   (...)\u001b[0m\n\u001b[0;32m   3875\u001b[0m \u001b[38;5;124;03m  3  4  0.705\u001b[39;00m\n\u001b[0;32m   3876\u001b[0m \u001b[38;5;124;03m\"\"\"\u001b[39;00m\n\u001b[0;32m   3877\u001b[0m \u001b[38;5;28;01mfrom\u001b[39;00m \u001b[38;5;21;01mpandas\u001b[39;00m\u001b[38;5;21;01m.\u001b[39;00m\u001b[38;5;21;01mcore\u001b[39;00m\u001b[38;5;21;01m.\u001b[39;00m\u001b[38;5;21;01mwindow\u001b[39;00m \u001b[38;5;28;01mimport\u001b[39;00m RollingGroupby\n\u001b[1;32m-> 3879\u001b[0m \u001b[38;5;28;01mreturn\u001b[39;00m \u001b[43mRollingGroupby\u001b[49m\u001b[43m(\u001b[49m\n\u001b[0;32m   3880\u001b[0m \u001b[43m    \u001b[49m\u001b[38;5;28;43mself\u001b[39;49m\u001b[38;5;241;43m.\u001b[39;49m\u001b[43m_selected_obj\u001b[49m\u001b[43m,\u001b[49m\n\u001b[0;32m   3881\u001b[0m \u001b[43m    \u001b[49m\u001b[38;5;241;43m*\u001b[39;49m\u001b[43margs\u001b[49m\u001b[43m,\u001b[49m\n\u001b[0;32m   3882\u001b[0m \u001b[43m    \u001b[49m\u001b[43m_grouper\u001b[49m\u001b[38;5;241;43m=\u001b[39;49m\u001b[38;5;28;43mself\u001b[39;49m\u001b[38;5;241;43m.\u001b[39;49m\u001b[43m_grouper\u001b[49m\u001b[43m,\u001b[49m\n\u001b[0;32m   3883\u001b[0m \u001b[43m    \u001b[49m\u001b[43m_as_index\u001b[49m\u001b[38;5;241;43m=\u001b[39;49m\u001b[38;5;28;43mself\u001b[39;49m\u001b[38;5;241;43m.\u001b[39;49m\u001b[43mas_index\u001b[49m\u001b[43m,\u001b[49m\n\u001b[0;32m   3884\u001b[0m \u001b[43m    \u001b[49m\u001b[38;5;241;43m*\u001b[39;49m\u001b[38;5;241;43m*\u001b[39;49m\u001b[43mkwargs\u001b[49m\u001b[43m,\u001b[49m\n\u001b[0;32m   3885\u001b[0m \u001b[43m\u001b[49m\u001b[43m)\u001b[49m\n",
      "File \u001b[1;32mc:\\Users\\amoshnin\\AppData\\Local\\anaconda3\\envs\\tmon_alert\\Lib\\site-packages\\pandas\\core\\window\\rolling.py:713\u001b[0m, in \u001b[0;36mBaseWindowGroupby.__init__\u001b[1;34m(self, obj, _grouper, _as_index, *args, **kwargs)\u001b[0m\n\u001b[0;32m    711\u001b[0m \u001b[38;5;28;01mif\u001b[39;00m kwargs\u001b[38;5;241m.\u001b[39mget(\u001b[38;5;124m\"\u001b[39m\u001b[38;5;124mstep\u001b[39m\u001b[38;5;124m\"\u001b[39m) \u001b[38;5;129;01mis\u001b[39;00m \u001b[38;5;129;01mnot\u001b[39;00m \u001b[38;5;28;01mNone\u001b[39;00m:\n\u001b[0;32m    712\u001b[0m     \u001b[38;5;28;01mraise\u001b[39;00m \u001b[38;5;167;01mNotImplementedError\u001b[39;00m(\u001b[38;5;124m\"\u001b[39m\u001b[38;5;124mstep not implemented for groupby\u001b[39m\u001b[38;5;124m\"\u001b[39m)\n\u001b[1;32m--> 713\u001b[0m \u001b[38;5;28;43msuper\u001b[39;49m\u001b[43m(\u001b[49m\u001b[43m)\u001b[49m\u001b[38;5;241;43m.\u001b[39;49m\u001b[38;5;21;43m__init__\u001b[39;49m\u001b[43m(\u001b[49m\u001b[43mobj\u001b[49m\u001b[43m,\u001b[49m\u001b[43m \u001b[49m\u001b[38;5;241;43m*\u001b[39;49m\u001b[43margs\u001b[49m\u001b[43m,\u001b[49m\u001b[43m \u001b[49m\u001b[38;5;241;43m*\u001b[39;49m\u001b[38;5;241;43m*\u001b[39;49m\u001b[43mkwargs\u001b[49m\u001b[43m)\u001b[49m\n",
      "File \u001b[1;32mc:\\Users\\amoshnin\\AppData\\Local\\anaconda3\\envs\\tmon_alert\\Lib\\site-packages\\pandas\\core\\window\\rolling.py:170\u001b[0m, in \u001b[0;36mBaseWindow.__init__\u001b[1;34m(self, obj, window, min_periods, center, win_type, axis, on, closed, step, method, selection)\u001b[0m\n\u001b[0;32m    164\u001b[0m     \u001b[38;5;28;01mraise\u001b[39;00m \u001b[38;5;167;01mValueError\u001b[39;00m(\n\u001b[0;32m    165\u001b[0m         \u001b[38;5;124mf\u001b[39m\u001b[38;5;124m\"\u001b[39m\u001b[38;5;124minvalid on specified as \u001b[39m\u001b[38;5;132;01m{\u001b[39;00m\u001b[38;5;28mself\u001b[39m\u001b[38;5;241m.\u001b[39mon\u001b[38;5;132;01m}\u001b[39;00m\u001b[38;5;124m, \u001b[39m\u001b[38;5;124m\"\u001b[39m\n\u001b[0;32m    166\u001b[0m         \u001b[38;5;124m\"\u001b[39m\u001b[38;5;124mmust be a column (of DataFrame), an Index or None\u001b[39m\u001b[38;5;124m\"\u001b[39m\n\u001b[0;32m    167\u001b[0m     )\n\u001b[0;32m    169\u001b[0m \u001b[38;5;28mself\u001b[39m\u001b[38;5;241m.\u001b[39m_selection \u001b[38;5;241m=\u001b[39m selection\n\u001b[1;32m--> 170\u001b[0m \u001b[38;5;28;43mself\u001b[39;49m\u001b[38;5;241;43m.\u001b[39;49m\u001b[43m_validate\u001b[49m\u001b[43m(\u001b[49m\u001b[43m)\u001b[49m\n",
      "File \u001b[1;32mc:\\Users\\amoshnin\\AppData\\Local\\anaconda3\\envs\\tmon_alert\\Lib\\site-packages\\pandas\\core\\window\\rolling.py:1914\u001b[0m, in \u001b[0;36mRolling._validate\u001b[1;34m(self)\u001b[0m\n\u001b[0;32m   1912\u001b[0m     \u001b[38;5;28;01mpass\u001b[39;00m\n\u001b[0;32m   1913\u001b[0m \u001b[38;5;28;01melif\u001b[39;00m \u001b[38;5;129;01mnot\u001b[39;00m is_integer(\u001b[38;5;28mself\u001b[39m\u001b[38;5;241m.\u001b[39mwindow) \u001b[38;5;129;01mor\u001b[39;00m \u001b[38;5;28mself\u001b[39m\u001b[38;5;241m.\u001b[39mwindow \u001b[38;5;241m<\u001b[39m \u001b[38;5;241m0\u001b[39m:\n\u001b[1;32m-> 1914\u001b[0m     \u001b[38;5;28;01mraise\u001b[39;00m \u001b[38;5;167;01mValueError\u001b[39;00m(\u001b[38;5;124m\"\u001b[39m\u001b[38;5;124mwindow must be an integer 0 or greater\u001b[39m\u001b[38;5;124m\"\u001b[39m)\n",
      "\u001b[1;31mValueError\u001b[0m: window must be an integer 0 or greater"
     ]
    }
   ],
   "source": [
    "# 2. **Lagged features:**\n",
    "# Create lagged features for 'ChlPrs'\n",
    "for i in range(1, 4):  # Create lags for the past 3 hours\n",
    "    df[f'ChlPrs_lag_{i}'] = df.groupby('machine_id')['ChlPrs'].shift(i).fillna(method='bfill')\n",
    "\n",
    "# 3. **Rolling window statistics:**\n",
    "df['rolling_mean_24h'] = (\n",
    "    df.groupby('machine_id')['ChlPrs']\n",
    "    .rolling('24h')\n",
    "    .mean()\n",
    "    .reset_index(level=0, drop=True)\n",
    ")\n",
    "df['rolling_std_24h'] = (\n",
    "    df.groupby('machine_id')['ChlPrs']\n",
    "    .rolling('24h')\n",
    "    .std()\n",
    "    .reset_index(level=0, drop=True)\n",
    ")"
   ]
  },
  {
   "cell_type": "code",
   "execution_count": null,
   "metadata": {},
   "outputs": [],
   "source": [
    "# 4. **Time to next alert:**\n",
    "# Calculate the time to the next alert of each type\n",
    "for alert_type in ['LOW', 'MEDIUM', 'HIGH', 'SIGMA']:\n",
    "    # Get indices where the current alert is of the specified type\n",
    "    alert_indices = df[df['ALERT'] == alert_type].index\n",
    "\n",
    "    # Calculate the time difference between each alert and the next alert\n",
    "    time_to_next_alert = (\n",
    "        df['Time'].iloc[alert_indices].values[:, None] - df['Time'].iloc[alert_indices + 1:].values\n",
    "    )\n",
    "    time_to_next_alert = np.where(time_to_next_alert > timedelta(0), np.nan, time_to_next_alert)\n",
    "    time_to_next_alert = np.abs(time_to_next_alert.min(axis=0))\n",
    "\n",
    "    # Convert time difference to days\n",
    "    time_to_next_alert = [t.total_seconds() / (24 * 60 * 60) for t in time_to_next_alert]\n",
    "\n",
    "    # Assign the time to next alert to a new column\n",
    "    df.loc[alert_indices, f'time_to_next_{alert_type}'] = time_to_next_alert\n"
   ]
  }
 ],
 "metadata": {
  "kernelspec": {
   "display_name": "tmon_alert",
   "language": "python",
   "name": "python3"
  },
  "language_info": {
   "codemirror_mode": {
    "name": "ipython",
    "version": 3
   },
   "file_extension": ".py",
   "mimetype": "text/x-python",
   "name": "python",
   "nbconvert_exporter": "python",
   "pygments_lexer": "ipython3",
   "version": "3.12.4"
  }
 },
 "nbformat": 4,
 "nbformat_minor": 2
}
